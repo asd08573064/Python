{
  "nbformat": 4,
  "nbformat_minor": 0,
  "metadata": {
    "colab": {
      "name": "logistic_regression.ipynb",
      "provenance": [],
      "collapsed_sections": [],
      "authorship_tag": "ABX9TyNDmNiP25gP0f4IlKu4c884",
      "include_colab_link": true
    },
    "kernelspec": {
      "name": "python3",
      "display_name": "Python 3"
    }
  },
  "cells": [
    {
      "cell_type": "markdown",
      "metadata": {
        "id": "view-in-github",
        "colab_type": "text"
      },
      "source": [
        "<a href=\"https://colab.research.google.com/github/asd08573064/Python/blob/master/logistic_regression.ipynb\" target=\"_parent\"><img src=\"https://colab.research.google.com/assets/colab-badge.svg\" alt=\"Open In Colab\"/></a>"
      ]
    },
    {
      "cell_type": "code",
      "metadata": {
        "id": "tQiRwVgHLUkD",
        "colab_type": "code",
        "colab": {
          "base_uri": "https://localhost:8080/",
          "height": 221
        },
        "outputId": "ce5223b1-8abb-4109-804b-84fd19dddbdc"
      },
      "source": [
        "!gdown --id '1KSFIRh0-_Vr7SdiSCZP1ItV7bXPxMD92' --output data.tar.gz\n",
        "!tar -zxvf data.tar.gz\n",
        "!ls"
      ],
      "execution_count": 2,
      "outputs": [
        {
          "output_type": "stream",
          "text": [
            "Downloading...\n",
            "From: https://drive.google.com/uc?id=1KSFIRh0-_Vr7SdiSCZP1ItV7bXPxMD92\n",
            "To: /content/data.tar.gz\n",
            "6.11MB [00:00, 23.2MB/s]\n",
            "data/\n",
            "data/sample_submission.csv\n",
            "data/test_no_label.csv\n",
            "data/train.csv\n",
            "data/X_test\n",
            "data/X_train\n",
            "data/Y_train\n",
            "data  data.tar.gz  sample_data\n"
          ],
          "name": "stdout"
        }
      ]
    },
    {
      "cell_type": "code",
      "metadata": {
        "id": "WgdZJS0LLb4B",
        "colab_type": "code",
        "colab": {
          "base_uri": "https://localhost:8080/",
          "height": 953
        },
        "outputId": "9187aa71-2d7d-4e62-c4d8-924124391725"
      },
      "source": [
        "import numpy as np\n",
        "import math\n",
        "import matplotlib.pyplot as plt\n",
        "\n",
        "np.random.seed(0)\n",
        "X_train_fpath = './data/X_train'\n",
        "Y_train_fpath = './data/Y_train'\n",
        "X_test_fpath = './data/X_test'\n",
        "output_fpath = './output_{}.csv'\n",
        "\n",
        "with open(X_train_fpath) as f:\n",
        "    next(f)\n",
        "    X_train = np.array([line.strip('\\n').split(',')[1:] for line in f], dtype = float)\n",
        "\n",
        "\n",
        "\n",
        "\n",
        "with open(Y_train_fpath) as f:\n",
        "    next(f)\n",
        "    Y_train = np.array([line.strip('\\n').split(',')[1] for line in f], dtype = float)\n",
        "\n",
        "\n",
        "\n",
        "with open(X_test_fpath) as f:\n",
        "    next(f)\n",
        "    X_test = np.array([line.strip('\\n').split(',')[1:] for line in f], dtype = float)\n",
        "\n",
        "\n",
        "\n",
        "\n",
        "\n",
        "def normalize_(X):\n",
        "    X_mean = np.mean(X[:,] ,0)\n",
        "    X_std = np.std(X[:,], 0)\n",
        "    return (X-X_mean)/(X_std+1e-8)\n",
        "\n",
        "def _train_dev_split(X, Y, dev_ratio = 0.1):\n",
        "    # This function spilts data into training set and development set.\n",
        "    train_size = int(len(X) * (1 - dev_ratio))\n",
        "    return X[:train_size], Y[:train_size], X[train_size:], Y[train_size:]\n",
        "\n",
        "def sigmoid(z):\n",
        "    return np.clip(1 / (1.0 + np.exp(-z)), 1e-8, 1 - (1e-7))\n",
        "\n",
        "def cross_entropy(Y, Y_prediction):\n",
        "    return -(np.dot(Y,np.log(Y_prediction)) + np.dot((1-Y),np.log(1-Y_prediction)))\n",
        "\n",
        "\n",
        "\n",
        "def function(w,x,b):\n",
        "    return sigmoid(np.dot(w,x)+b)\n",
        "\n",
        "\n",
        "def gradiant(w,x,b,Y):\n",
        "    prediction = function(w,x,b)\n",
        "    w_gradient  = -(Y - prediction) * X\n",
        "    b_gradient = -(Y - prediction)\n",
        "    return w_gradient, b_gradient\n",
        "\n",
        "\n",
        "X_test = normalize_(X_test)\n",
        "X_train = normalize_(X_train)\n",
        "\n",
        "X_train, Y_train, X_dev, Y_dev = _train_dev_split(X_train, Y_train)\n",
        "\n",
        "\n",
        "train_size = X_train.shape[0]\n",
        "dev_size = X_dev.shape[0]\n",
        "test_size = X_test.shape[0]\n",
        "data_dim = X_train.shape[1]\n",
        "\n",
        "\n",
        "\n",
        "print('Size of training set: {}'.format(train_size))\n",
        "print('Size of development set: {}'.format(dev_size))\n",
        "print('Size of testing set: {}'.format(test_size))\n",
        "print('Dimension of data: {}'.format(data_dim))\n",
        "\n",
        "\n",
        "# initailize our data\n",
        "train_loss = []\n",
        "dev_loss = []\n",
        "train_acc = []\n",
        "dev_acc = []\n",
        "w = np.zeros((data_dim,))\n",
        "b = np.zeros((1,))\n",
        "\n",
        "\n",
        "learning_rate = 0.2\n",
        "\n",
        "idx = 0\n",
        "\n",
        "for epoch in range(5):\n",
        "    y_train_pred = []\n",
        "    X = []\n",
        "    accuracy = 0\n",
        "    for i in range(train_size):\n",
        "        Y = Y_train[i]\n",
        "        X = X_train[i]\n",
        "\n",
        "        grad_w, grad_b = gradiant(w,X,b,Y)\n",
        "        \n",
        "        w = w - learning_rate/np.sqrt(i+1) * grad_w\n",
        "        b = b - learning_rate/np.sqrt(i+1) * grad_b\n",
        "    for i in range(train_size):\n",
        "        y_train_pred.append(function(w, X_train[i],b))\n",
        "        accuracy += np.abs(np.round(function(w, X_train[i],b)) - Y_train[i])\n",
        "    \n",
        "    print(1-accuracy/train_size)\n",
        "    train_acc.append(1-accuracy/train_size)\n",
        "    print(cross_entropy(Y_train, np.array(y_train_pred).T[0]) / train_size)\n",
        "    train_loss.append(cross_entropy(Y_train, np.array(y_train_pred).T[0]) / train_size)\n",
        "\n",
        "    accuracy = 0\n",
        "    y_train_pred = []\n",
        "    for i in range(dev_size):\n",
        "        y_train_pred.append(function(w, X_dev[i],b))\n",
        "        accuracy += np.abs(np.round(function(w, X_dev[i],b)) - Y_dev[i])\n",
        "\n",
        "    print(1-accuracy/dev_size)\n",
        "    dev_acc.append(1-accuracy/dev_size)\n",
        "    print(cross_entropy(Y_dev, np.array(y_train_pred).T[0]) / dev_size)\n",
        "    dev_loss.append(cross_entropy(Y_dev, np.array(y_train_pred).T[0]) / dev_size)\n",
        "\n",
        "\n",
        "\n",
        "\n",
        "\n",
        "\n",
        "# Loss curve\n",
        "plt.plot(train_loss)\n",
        "plt.plot(dev_loss)\n",
        "plt.title('Loss')\n",
        "plt.legend(['train', 'dev'])\n",
        "plt.savefig('loss.png')\n",
        "plt.show()\n",
        "\n",
        "# Accuracy curve\n",
        "plt.plot(train_acc)\n",
        "plt.plot(dev_acc)\n",
        "plt.title('Accuracy')\n",
        "plt.legend(['train', 'dev'])\n",
        "plt.savefig('acc.png')\n",
        "plt.show()\n",
        "\n",
        "\n",
        "\n",
        "\n",
        "\n",
        "\n",
        "\n",
        "\n",
        "\n",
        "\n",
        "\n",
        "\n",
        "\n",
        "\n",
        "\n",
        "\n",
        " \n",
        "\n",
        "      \n",
        "\n"
      ],
      "execution_count": 55,
      "outputs": [
        {
          "output_type": "stream",
          "text": [
            "Size of training set: 48830\n",
            "Size of development set: 5426\n",
            "Size of testing set: 27622\n",
            "Dimension of data: 510\n",
            "[0.88044235]\n",
            "0.2994775913745653\n",
            "[0.87062293]\n",
            "0.30608872679881666\n",
            "[0.8818759]\n",
            "0.27849044376342413\n",
            "[0.8728345]\n",
            "0.2968844965436548\n",
            "[0.88265411]\n",
            "0.2755199422417608\n",
            "[0.8730188]\n",
            "0.29419792444104054\n",
            "[0.88267459]\n",
            "0.2745995209143003\n",
            "[0.87228161]\n",
            "0.2929478415256436\n",
            "[0.88296129]\n",
            "0.27361419344057847\n",
            "[0.87338739]\n",
            "0.29243954569807207\n"
          ],
          "name": "stdout"
        },
        {
          "output_type": "display_data",
          "data": {
            "image/png": "[encoded data removed]",
            "text/plain": [
              "<Figure size 432x288 with 1 Axes>"
            ]
          },
          "metadata": {
            "tags": [],
            "needs_background": "light"
          }
        },
        {
          "output_type": "display_data",
          "data": {
            "image/png": "[encoded data removed]",
            "text/plain": [
              "<Figure size 432x288 with 1 Axes>"
            ]
          },
          "metadata": {
            "tags": [],
            "needs_background": "light"
          }
        }
      ]
    },
    {
      "cell_type": "code",
      "metadata": {
        "id": "qVzEgvrwo-2R",
        "colab_type": "code",
        "colab": {}
      },
      "source": [
        ""
      ],
      "execution_count": null,
      "outputs": []
    }
  ]
}